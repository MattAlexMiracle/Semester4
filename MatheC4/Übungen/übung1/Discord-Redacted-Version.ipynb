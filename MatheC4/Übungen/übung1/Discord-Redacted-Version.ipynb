{
 "cells": [
  {
   "cell_type": "markdown",
   "metadata": {},
   "source": [
    "# Hausaufgabe 4 a)"
   ]
  },
  {
   "cell_type": "code",
   "execution_count": 8,
   "metadata": {},
   "outputs": [
    {
     "data": {
      "text/plain": [
       "100"
      ]
     },
     "execution_count": 8,
     "metadata": {},
     "output_type": "execute_result"
    }
   ],
   "source": [
    "data = [80,81,84,74,93,80,108,62,81,51,71,57,80,75,77,60,86,50,89,54,90,73,60,83,54,85,58,79,57,88,68,85,75,65,76,58,91,50,54,86,53,78,52,83,60,60,92,43,89,60,84,69,50,77,57,80,61,82,48,79,54,80,73,81,62,81,74,59,81,66,87,53,80,82,58,81,49,92,50,88,77,65,76,87,87,74,81,71,50,62,56,82,78,48,49,71,73,79,87,93]\n",
    "n=len(data)\n",
    "n"
   ]
  },
  {
   "cell_type": "code",
   "execution_count": 4,
   "metadata": {
    "scrolled": true
   },
   "outputs": [
    {
     "data": {
      "text/plain": [
       "[43,\n",
       " 48,\n",
       " 48,\n",
       " 49,\n",
       " 49,\n",
       " 50,\n",
       " 50,\n",
       " 50,\n",
       " 50,\n",
       " 50,\n",
       " 51,\n",
       " 52,\n",
       " 53,\n",
       " 53,\n",
       " 54,\n",
       " 54,\n",
       " 54,\n",
       " 54,\n",
       " 56,\n",
       " 57,\n",
       " 57,\n",
       " 57,\n",
       " 58,\n",
       " 58,\n",
       " 58,\n",
       " 59,\n",
       " 60,\n",
       " 60,\n",
       " 60,\n",
       " 60,\n",
       " 60,\n",
       " 61,\n",
       " 62,\n",
       " 62,\n",
       " 62,\n",
       " 65,\n",
       " 65,\n",
       " 66,\n",
       " 68,\n",
       " 69,\n",
       " 71,\n",
       " 71,\n",
       " 71,\n",
       " 73,\n",
       " 73,\n",
       " 73,\n",
       " 74,\n",
       " 74,\n",
       " 74,\n",
       " 75,\n",
       " 75,\n",
       " 76,\n",
       " 76,\n",
       " 77,\n",
       " 77,\n",
       " 77,\n",
       " 78,\n",
       " 78,\n",
       " 79,\n",
       " 79,\n",
       " 79,\n",
       " 80,\n",
       " 80,\n",
       " 80,\n",
       " 80,\n",
       " 80,\n",
       " 80,\n",
       " 81,\n",
       " 81,\n",
       " 81,\n",
       " 81,\n",
       " 81,\n",
       " 81,\n",
       " 81,\n",
       " 82,\n",
       " 82,\n",
       " 82,\n",
       " 83,\n",
       " 83,\n",
       " 84,\n",
       " 84,\n",
       " 85,\n",
       " 85,\n",
       " 86,\n",
       " 86,\n",
       " 87,\n",
       " 87,\n",
       " 87,\n",
       " 87,\n",
       " 88,\n",
       " 88,\n",
       " 89,\n",
       " 89,\n",
       " 90,\n",
       " 91,\n",
       " 92,\n",
       " 92,\n",
       " 93,\n",
       " 93,\n",
       " 108]"
      ]
     },
     "execution_count": 4,
     "metadata": {},
     "output_type": "execute_result"
    }
   ],
   "source": [
    "ordnungstatistik = sorted(data)\n",
    "ordnungstatistik"
   ]
  },
  {
   "cell_type": "code",
   "execution_count": 11,
   "metadata": {},
   "outputs": [
    {
     "data": {
      "text/plain": [
       "71.62"
      ]
     },
     "execution_count": 11,
     "metadata": {},
     "output_type": "execute_result"
    }
   ],
   "source": [
    "durchschnitt = sum(ordnungstatistik)/len(ordnungstatistik)\n",
    "durchschnitt\n"
   ]
  },
  {
   "cell_type": "code",
   "execution_count": 14,
   "metadata": {},
   "outputs": [
    {
     "name": "stdout",
     "output_type": "stream",
     "text": [
      "50.0 89.5 75.5\n"
     ]
    }
   ],
   "source": [
    "achte_quantil = 1/2* (ordnungstatistik[int(n*0.08)]+ordnungstatistik[int(n*0.08)+1])\n",
    "zweiundneunzigstes_quantil = 1/2* (ordnungstatistik[int(n*0.92)]+ordnungstatistik[int(n*0.92)+1])\n",
    "median = 1/2* (ordnungstatistik[int(n*0.5)]+ordnungstatistik[int(n*0.5)+1])\n",
    "print(achte_quantil, zweiundneunzigstes_quantil,median)"
   ]
  },
  {
   "cell_type": "code",
   "execution_count": 18,
   "metadata": {},
   "outputs": [
    {
     "data": {
      "text/plain": [
       "14.152688290872012"
      ]
     },
     "execution_count": 18,
     "metadata": {},
     "output_type": "execute_result"
    }
   ],
   "source": [
    "std_empirisch = ((1/(len(ordnungstatistik)-1)) *sum([(x-durchschnitt)**2 for x in ordnungstatistik]))**0.5\n",
    "std_empirisch"
   ]
  },
  {
   "cell_type": "markdown",
   "metadata": {},
   "source": [
    "# Teil b)"
   ]
  },
  {
   "cell_type": "code",
   "execution_count": 22,
   "metadata": {},
   "outputs": [],
   "source": [
    "import matplotlib.pyplot as plt\n",
    "import numpy as np"
   ]
  },
  {
   "cell_type": "code",
   "execution_count": 21,
   "metadata": {},
   "outputs": [
    {
     "data": {
      "image/png": "[encoded data removed]",
      "text/plain": [
       "<Figure size 432x288 with 1 Axes>"
      ]
     },
     "metadata": {
      "needs_background": "light"
     },
     "output_type": "display_data"
    },
    {
     "name": "stdout",
     "output_type": "stream",
     "text": [
      "59.5 82.0\n"
     ]
    }
   ],
   "source": [
    "l_quartil = 1/2* (ordnungstatistik[int(n*0.25)]+ordnungstatistik[int(n*0.25)+1])\n",
    "u_quartil = 1/2* (ordnungstatistik[int(n*0.75)]+ordnungstatistik[int(n*0.75)+1])\n",
    "plt.boxplot(ordnungstatistik)\n",
    "plt.show()\n",
    "print(l_quartil, u_quartil)"
   ]
  },
  {
   "cell_type": "code",
   "execution_count": 31,
   "metadata": {},
   "outputs": [
    {
     "data": {
      "image/png": "[encoded data removed]",
      "text/plain": [
       "<Figure size 432x288 with 1 Axes>"
      ]
     },
     "metadata": {
      "needs_background": "light"
     },
     "output_type": "display_data"
    }
   ],
   "source": [
    "#manuelle berechnung der bins\n",
    "bins = np.ones((max(ordnungstatistik)-42)//6+1)*6\n",
    "bins[0] = 42\n",
    "bins = np.cumsum(bins)\n",
    "plt.hist(ordnungstatistik,bins=bins, label = map(str,bins))\n",
    "plt.show()"
   ]
  },
  {
   "cell_type": "code",
   "execution_count": null,
   "metadata": {},
   "outputs": [],
   "source": []
  }
 ],
 "metadata": {
  "kernelspec": {
   "display_name": "Python 3",
   "language": "python",
   "name": "python3"
  },
  "language_info": {
   "codemirror_mode": {
    "name": "ipython",
    "version": 3
   },
   "file_extension": ".py",
   "mimetype": "text/x-python",
   "name": "python",
   "nbconvert_exporter": "python",
   "pygments_lexer": "ipython3",
   "version": "3.7.4"
  }
 },
 "nbformat": 4,
 "nbformat_minor": 2
}
